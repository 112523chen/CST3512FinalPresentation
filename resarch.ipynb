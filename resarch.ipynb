{
 "cells": [
  {
   "cell_type": "markdown",
   "metadata": {},
   "source": [
    "# How is Airbnb really being used in and affecting the neighbourhoods of your city?\n",
    "\n",
    "- Summary\n",
    "- Background\n",
    "- Problem Statement\n",
    "- Approach\n",
    "- Findings\n",
    "- Model/Analysis Design"
   ]
  },
  {
   "cell_type": "code",
   "execution_count": 1,
   "metadata": {},
   "outputs": [],
   "source": [
    "#Import Libraries\n",
    "import pandas as pd \n",
    "from matplotlib import pyplot as plt \n",
    "import seaborn as sns"
   ]
  },
  {
   "cell_type": "code",
   "execution_count": null,
   "metadata": {},
   "outputs": [],
   "source": [
    "#Import Data"
   ]
  },
  {
   "cell_type": "code",
   "execution_count": 6,
   "metadata": {},
   "outputs": [],
   "source": [
    "#Create dataframes from the csv\n",
    "sep_listing_df = pd.read_csv('listings_Sep_22.csv', low_memory=False)\n",
    "jun_listing_df = pd.read_csv('listings_Jun_22.csv', low_memory=False)\n",
    "mar_listing_df = pd.read_csv('listings_Mar_22.csv', low_memory=False)\n",
    "dec_listing_df = pd.read_csv('listings_Dec_21.csv', low_memory=False)"
   ]
  },
  {
   "cell_type": "code",
   "execution_count": 10,
   "metadata": {},
   "outputs": [
    {
     "data": {
      "text/plain": [
       "Index(['id', 'listing_url', 'scrape_id', 'last_scraped', 'source', 'name',\n",
       "       'description', 'neighborhood_overview', 'picture_url', 'host_id',\n",
       "       'host_url', 'host_name', 'host_since', 'host_location', 'host_about',\n",
       "       'host_response_time', 'host_response_rate', 'host_acceptance_rate',\n",
       "       'host_is_superhost', 'host_thumbnail_url', 'host_picture_url',\n",
       "       'host_neighbourhood', 'host_listings_count',\n",
       "       'host_total_listings_count', 'host_verifications',\n",
       "       'host_has_profile_pic', 'host_identity_verified', 'neighbourhood',\n",
       "       'neighbourhood_cleansed', 'neighbourhood_group_cleansed', 'latitude',\n",
       "       'longitude', 'property_type', 'room_type', 'accommodates', 'bathrooms',\n",
       "       'bathrooms_text', 'bedrooms', 'beds', 'amenities', 'price',\n",
       "       'minimum_nights', 'maximum_nights', 'minimum_minimum_nights',\n",
       "       'maximum_minimum_nights', 'minimum_maximum_nights',\n",
       "       'maximum_maximum_nights', 'minimum_nights_avg_ntm',\n",
       "       'maximum_nights_avg_ntm', 'calendar_updated', 'has_availability',\n",
       "       'availability_30', 'availability_60', 'availability_90',\n",
       "       'availability_365', 'calendar_last_scraped', 'number_of_reviews',\n",
       "       'number_of_reviews_ltm', 'number_of_reviews_l30d', 'first_review',\n",
       "       'last_review', 'review_scores_rating', 'review_scores_accuracy',\n",
       "       'review_scores_cleanliness', 'review_scores_checkin',\n",
       "       'review_scores_communication', 'review_scores_location',\n",
       "       'review_scores_value', 'license', 'instant_bookable',\n",
       "       'calculated_host_listings_count',\n",
       "       'calculated_host_listings_count_entire_homes',\n",
       "       'calculated_host_listings_count_private_rooms',\n",
       "       'calculated_host_listings_count_shared_rooms', 'reviews_per_month'],\n",
       "      dtype='object')"
      ]
     },
     "execution_count": 10,
     "metadata": {},
     "output_type": "execute_result"
    }
   ],
   "source": [
    "#Columns in dataframe\n",
    "sep_listing_df.columns"
   ]
  },
  {
   "cell_type": "code",
   "execution_count": 21,
   "metadata": {},
   "outputs": [
    {
     "name": "stdout",
     "output_type": "stream",
     "text": [
      "int64 \t id\n",
      "object \t listing_url\n",
      "int64 \t scrape_id\n",
      "object \t last_scraped\n",
      "object \t source\n",
      "object \t name\n",
      "object \t description\n",
      "object \t neighborhood_overview\n",
      "object \t picture_url\n",
      "int64 \t host_id\n",
      "object \t host_url\n",
      "object \t host_name\n",
      "object \t host_since\n",
      "object \t host_location\n",
      "object \t host_about\n",
      "object \t host_response_time\n",
      "object \t host_response_rate\n",
      "object \t host_acceptance_rate\n",
      "object \t host_is_superhost\n",
      "object \t host_thumbnail_url\n",
      "object \t host_picture_url\n",
      "object \t host_neighbourhood\n",
      "float64 \t host_listings_count\n",
      "float64 \t host_total_listings_count\n",
      "object \t host_verifications\n",
      "object \t host_has_profile_pic\n",
      "object \t host_identity_verified\n",
      "object \t neighbourhood\n",
      "object \t neighbourhood_cleansed\n",
      "object \t neighbourhood_group_cleansed\n",
      "float64 \t latitude\n",
      "float64 \t longitude\n",
      "object \t property_type\n",
      "object \t room_type\n",
      "int64 \t accommodates\n",
      "float64 \t bathrooms\n",
      "object \t bathrooms_text\n",
      "float64 \t bedrooms\n",
      "float64 \t beds\n",
      "object \t amenities\n",
      "object \t price\n",
      "int64 \t minimum_nights\n",
      "int64 \t maximum_nights\n",
      "float64 \t minimum_minimum_nights\n",
      "float64 \t maximum_minimum_nights\n",
      "float64 \t minimum_maximum_nights\n",
      "float64 \t maximum_maximum_nights\n",
      "float64 \t minimum_nights_avg_ntm\n",
      "float64 \t maximum_nights_avg_ntm\n",
      "float64 \t calendar_updated\n",
      "object \t has_availability\n",
      "int64 \t availability_30\n",
      "int64 \t availability_60\n",
      "int64 \t availability_90\n",
      "int64 \t availability_365\n",
      "object \t calendar_last_scraped\n",
      "int64 \t number_of_reviews\n",
      "int64 \t number_of_reviews_ltm\n",
      "int64 \t number_of_reviews_l30d\n",
      "object \t first_review\n",
      "object \t last_review\n",
      "float64 \t review_scores_rating\n",
      "float64 \t review_scores_accuracy\n",
      "float64 \t review_scores_cleanliness\n",
      "float64 \t review_scores_checkin\n",
      "float64 \t review_scores_communication\n",
      "float64 \t review_scores_location\n",
      "float64 \t review_scores_value\n",
      "object \t license\n",
      "object \t instant_bookable\n",
      "int64 \t calculated_host_listings_count\n",
      "int64 \t calculated_host_listings_count_entire_homes\n",
      "int64 \t calculated_host_listings_count_private_rooms\n",
      "int64 \t calculated_host_listings_count_shared_rooms\n",
      "float64 \t reviews_per_month\n"
     ]
    }
   ],
   "source": [
    "#Datatypes for each column in dataframe\n",
    "for t in range(len(sep_listing_df.dtypes)):\n",
    "    print( sep_listing_df.dtypes[t],'\\t',sep_listing_df.columns[t])"
   ]
  },
  {
   "cell_type": "code",
   "execution_count": null,
   "metadata": {},
   "outputs": [],
   "source": []
  }
 ],
 "metadata": {
  "kernelspec": {
   "display_name": "Python 3.10.8 64-bit",
   "language": "python",
   "name": "python3"
  },
  "language_info": {
   "codemirror_mode": {
    "name": "ipython",
    "version": 3
   },
   "file_extension": ".py",
   "mimetype": "text/x-python",
   "name": "python",
   "nbconvert_exporter": "python",
   "pygments_lexer": "ipython3",
   "version": "3.10.8"
  },
  "orig_nbformat": 4,
  "vscode": {
   "interpreter": {
    "hash": "b0fa6594d8f4cbf19f97940f81e996739fb7646882a419484c72d19e05852a7e"
   }
  }
 },
 "nbformat": 4,
 "nbformat_minor": 2
}
